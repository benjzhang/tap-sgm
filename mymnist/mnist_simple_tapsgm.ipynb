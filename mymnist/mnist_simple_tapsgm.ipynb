{
 "cells": [
  {
   "attachments": {},
   "cell_type": "markdown",
   "metadata": {},
   "source": [
    "Simple implementation of MNIST with TAP-SGM"
   ]
  },
  {
   "cell_type": "code",
   "execution_count": 8,
   "metadata": {},
   "outputs": [],
   "source": [
    "import numpy as np\n",
    "import os\n",
    "import argparse\n",
    "import torch\n",
    "import torch.nn as nn\n",
    "import torchvision\n",
    "import torchvision.transforms as transforms\n",
    "import matplotlib.pyplot as plt \n",
    "from models.unet import UNet"
   ]
  },
  {
   "cell_type": "code",
   "execution_count": 12,
   "metadata": {},
   "outputs": [],
   "source": [
    "## FFJORD things\n",
    "import lib.layers as layers\n",
    "import lib.utils as utils\n",
    "import lib.odenvp as odenvp\n",
    "import lib.multiscale_parallel as multiscale_parallel\n",
    "\n",
    "from train_misc import standard_normal_logprob\n",
    "from train_misc import set_cnf_options, count_nfe, count_parameters, count_total_time\n",
    "from train_misc import add_spectral_norm, spectral_norm_power_iteration\n",
    "from train_misc import create_regularization_fns, get_regularization, append_regularization_to_log\n"
   ]
  },
  {
   "cell_type": "code",
   "execution_count": 24,
   "metadata": {},
   "outputs": [],
   "source": [
    "def ffjord_create_model(args, data_shape, regularization_fns):\n",
    "    hidden_dims = tuple(map(int, args.dims.split(\",\")))\n",
    "    strides = tuple(map(int, args.strides.split(\",\")))\n",
    "\n",
    "    if args.multiscale:\n",
    "        model = odenvp.ODENVP(\n",
    "            (args.batch_size, *data_shape),\n",
    "            n_blocks=args.num_blocks,\n",
    "            intermediate_dims=hidden_dims,\n",
    "            nonlinearity=args.nonlinearity,\n",
    "            alpha=args.alpha,\n",
    "            cnf_kwargs={\"T\": args.time_length, \"train_T\": args.train_T, \"regularization_fns\": regularization_fns},\n",
    "        )\n",
    "    elif args.parallel:\n",
    "        model = multiscale_parallel.MultiscaleParallelCNF(\n",
    "            (args.batch_size, *data_shape),\n",
    "            n_blocks=args.num_blocks,\n",
    "            intermediate_dims=hidden_dims,\n",
    "            alpha=args.alpha,\n",
    "            time_length=args.time_length,\n",
    "        )\n",
    "    else:\n",
    "        if args.autoencode:\n",
    "\n",
    "            def build_cnf():\n",
    "                autoencoder_diffeq = layers.AutoencoderDiffEqNet(\n",
    "                    hidden_dims=hidden_dims,\n",
    "                    input_shape=data_shape,\n",
    "                    strides=strides,\n",
    "                    conv=args.conv,\n",
    "                    layer_type=args.layer_type,\n",
    "                    nonlinearity=args.nonlinearity,\n",
    "                )\n",
    "                odefunc = layers.AutoencoderODEfunc(\n",
    "                    autoencoder_diffeq=autoencoder_diffeq,\n",
    "                    divergence_fn=args.divergence_fn,\n",
    "                    residual=args.residual,\n",
    "                    rademacher=args.rademacher,\n",
    "                )\n",
    "                cnf = layers.CNF(\n",
    "                    odefunc=odefunc,\n",
    "                    T=args.time_length,\n",
    "                    regularization_fns=regularization_fns,\n",
    "                    solver=args.solver,\n",
    "                )\n",
    "                return cnf\n",
    "        else:\n",
    "\n",
    "            def build_cnf():\n",
    "                diffeq = layers.ODEnet(\n",
    "                    hidden_dims=hidden_dims,\n",
    "                    input_shape=data_shape,\n",
    "                    strides=strides,\n",
    "                    conv=args.conv,\n",
    "                    layer_type=args.layer_type,\n",
    "                    nonlinearity=args.nonlinearity,\n",
    "                )\n",
    "                odefunc = layers.ODEfunc(\n",
    "                    diffeq=diffeq,\n",
    "                    divergence_fn=args.divergence_fn,\n",
    "                    residual=args.residual,\n",
    "                    rademacher=args.rademacher,\n",
    "                )\n",
    "                cnf = layers.CNF(\n",
    "                    odefunc=odefunc,\n",
    "                    T=args.time_length,\n",
    "                    train_T=args.train_T,\n",
    "                    regularization_fns=regularization_fns,\n",
    "                    solver=args.solver,\n",
    "                )\n",
    "                return cnf\n",
    "\n",
    "        chain = [layers.LogitTransform(alpha=args.alpha)] if args.alpha > 0 else [layers.ZeroMeanTransform()]\n",
    "        chain = chain + [build_cnf() for _ in range(args.num_blocks)]\n",
    "        if args.batch_norm:\n",
    "            chain.append(layers.MovingBatchNorm2d(data_shape[0]))\n",
    "        model = layers.SequentialFlow(chain)\n",
    "    return model"
   ]
  },
  {
   "cell_type": "code",
   "execution_count": 25,
   "metadata": {},
   "outputs": [],
   "source": [
    "# import MNIST samples\n",
    "\n",
    "transform = transforms.Compose([transforms.ToTensor()])\n",
    "dataset = torchvision.datasets.MNIST('mnist_data',train = True,download = True, transform = transform)\n",
    "\n"
   ]
  },
  {
   "cell_type": "code",
   "execution_count": 26,
   "metadata": {},
   "outputs": [
    {
     "data": {
      "image/png": "[encoded data removed]",
      "text/plain": [
       "<Figure size 800x800 with 16 Axes>"
      ]
     },
     "metadata": {},
     "output_type": "display_data"
    }
   ],
   "source": [
    "nrows = 4\n",
    "ncols = 4\n",
    "fig = plt.figure(figsize=(8,8))\n",
    "i = 1\n",
    "for a in range(nrows):\n",
    "    for b in range(ncols):\n",
    "        fig.add_subplot(nrows,ncols,i)\n",
    "        plt.imshow(dataset[i][0][0],cmap = 'gray')\n",
    "        i = i+1\n",
    "        plt.axis('off')\n"
   ]
  },
  {
   "cell_type": "code",
   "execution_count": 27,
   "metadata": {},
   "outputs": [],
   "source": [
    "## Define scorenetwork \n",
    "\n",
    "inputchannels = 1\n",
    "inputheight = 28\n",
    "dimx = inputchannels * inputheight ** 2\n",
    "scorenet = UNet(input_channels = inputchannels,\n",
    "                input_height = inputheight,\n",
    "                ch = 32,\n",
    "                ch_mult = (1,2,2),\n",
    "                num_res_blocks=2,\n",
    "                attn_resolutions=(16,),\n",
    "                resamp_with_conv=True,\n",
    "                )"
   ]
  },
  {
   "cell_type": "code",
   "execution_count": 28,
   "metadata": {},
   "outputs": [
    {
     "data": {
      "text/plain": [
       "<All keys matched successfully>"
      ]
     },
     "execution_count": 28,
     "metadata": {},
     "output_type": "execute_result"
    }
   ],
   "source": [
    "## Load preconditioning map\n",
    "\n",
    "checkpoint = torch.load('ffjord_mnist_bad_checkpt.pth',map_location = torch.device('cpu'))\n",
    "preconditionerargs = checkpoint['args']\n",
    "\n",
    "data_shape = (inputchannels, inputheight, inputheight)\n",
    "\n",
    "regularization_fns, regularization_coeffs = create_regularization_fns(preconditionerargs)\n",
    "model = ffjord_create_model(preconditionerargs,data_shape,regularization_fns)\n",
    "model.load_state_dict(checkpoint['state_dict'])"
   ]
  },
  {
   "cell_type": "code",
   "execution_count": 44,
   "metadata": {},
   "outputs": [
    {
     "name": "stderr",
     "output_type": "stream",
     "text": [
      "/Users/bjzhang/gitrepos/tap-sgm/mymnist/lib/layers/odefunc.py:288: UserWarning: To copy construct from a tensor, it is recommended to use sourceTensor.clone().detach() or sourceTensor.clone().detach().requires_grad_(True), rather than torch.tensor(sourceTensor).\n",
      "  t = torch.tensor(t).type_as(y)\n"
     ]
    }
   ],
   "source": [
    "device = torch.device(\"cuda:0\" if torch.cuda.is_available() else \"cpu\")\n",
    "cvt = lambda x: x.type(torch.float32).to(device, non_blocking=True)\n",
    "fixed_z = cvt(torch.randn(16, *data_shape))\n",
    "\n",
    "ffjord_generated_samples = model(fixed_z, reverse=True).view(-1, *data_shape)\n"
   ]
  },
  {
   "cell_type": "code",
   "execution_count": 48,
   "metadata": {},
   "outputs": [
    {
     "data": {
      "text/plain": [
       "torch.Size([16, 1, 28, 28])"
      ]
     },
     "execution_count": 48,
     "metadata": {},
     "output_type": "execute_result"
    }
   ],
   "source": [
    "## Pushforward samples"
   ]
  },
  {
   "cell_type": "code",
   "execution_count": 103,
   "metadata": {},
   "outputs": [
    {
     "name": "stderr",
     "output_type": "stream",
     "text": [
      "/Users/bjzhang/gitrepos/tap-sgm/mymnist/lib/layers/odefunc.py:288: UserWarning: To copy construct from a tensor, it is recommended to use sourceTensor.clone().detach() or sourceTensor.clone().detach().requires_grad_(True), rather than torch.tensor(sourceTensor).\n",
      "  t = torch.tensor(t).type_as(y)\n"
     ]
    }
   ],
   "source": [
    "loader = torch.utils.data.DataLoader(dataset,60000)\n",
    "blah = enumerate(loader)\n",
    "a, (blah,b) = next(blah)\n",
    "\n",
    "pushforward_z = model(blah,reverse = False).view(-1,*data_shape)"
   ]
  },
  {
   "cell_type": "code",
   "execution_count": 156,
   "metadata": {},
   "outputs": [
    {
     "data": {
      "text/plain": [
       "<matplotlib.collections.PathCollection at 0x28e176730>"
      ]
     },
     "execution_count": 156,
     "metadata": {},
     "output_type": "execute_result"
    },
    {
     "data": {
      "image/png": "[encoded data removed]",
      "text/plain": [
       "<Figure size 640x480 with 1 Axes>"
      ]
     },
     "metadata": {},
     "output_type": "display_data"
    }
   ],
   "source": [
    "pushforward_z.shape\n",
    "bleh = pushforward_z.detach().numpy()\n",
    "bleh[4,:,1,1]\n",
    "plt.scatter(bleh[:,0,14,10],bleh[:,0,4,1])"
   ]
  },
  {
   "cell_type": "code",
   "execution_count": 157,
   "metadata": {},
   "outputs": [
    {
     "data": {
      "text/plain": [
       "<matplotlib.collections.PathCollection at 0x28e1f4340>"
      ]
     },
     "execution_count": 157,
     "metadata": {},
     "output_type": "execute_result"
    },
    {
     "data": {
      "image/png": "[encoded data removed]",
      "text/plain": [
       "<Figure size 640x480 with 1 Axes>"
      ]
     },
     "metadata": {},
     "output_type": "display_data"
    }
   ],
   "source": [
    "scattersamples = blah.detach().numpy()\n",
    "\n",
    "plt.scatter(scattersamples[:,0,14,10],scattersamples[:,0,4,1])"
   ]
  },
  {
   "cell_type": "code",
   "execution_count": 164,
   "metadata": {},
   "outputs": [
    {
     "name": "stdout",
     "output_type": "stream",
     "text": [
      "False\n"
     ]
    }
   ],
   "source": [
    "print(torch.cuda.is_available())\n"
   ]
  },
  {
   "cell_type": "code",
   "execution_count": null,
   "metadata": {},
   "outputs": [],
   "source": [
    "# Scorenet is a U-net, whatever that is. \n",
    "\n",
    "## FIGURE OUT SCORENET NEXT\n",
    "\n",
    "## THEN FIGURE OUT THE PRETRAINED THING\n",
    "\n",
    "##LOOK AT 2D MARGINALS OF THE BAD FFJORDMAP"
   ]
  }
 ],
 "metadata": {
  "kernelspec": {
   "display_name": "particlesystems",
   "language": "python",
   "name": "python3"
  },
  "language_info": {
   "codemirror_mode": {
    "name": "ipython",
    "version": 3
   },
   "file_extension": ".py",
   "mimetype": "text/x-python",
   "name": "python",
   "nbconvert_exporter": "python",
   "pygments_lexer": "ipython3",
   "version": "3.9.13"
  },
  "orig_nbformat": 4,
  "vscode": {
   "interpreter": {
    "hash": "dcff6d82c76e93f8bf1a2a5a5959262afe2e0fbcc55797eb73e33c922868f9ed"
   }
  }
 },
 "nbformat": 4,
 "nbformat_minor": 2
}
