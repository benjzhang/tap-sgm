{
 "cells": [
  {
   "attachments": {},
   "cell_type": "markdown",
   "metadata": {},
   "source": [
    "## Transport-accelerated preconditioners for score-based generative modeling with SDEs (Simple examples)"
   ]
  },
  {
   "cell_type": "code",
   "execution_count": 44,
   "metadata": {},
   "outputs": [],
   "source": [
    "import matplotlib.pyplot as plt\n",
    "import os\n",
    "import torch\n",
    "import torch.optim as optim\n",
    "import torch.nn as nn\n",
    "import lib.toy_data as toy_data\n",
    "import numpy as np\n",
    "\n",
    "import lib.layers as layers\n",
    "\n",
    "import argparse\n"
   ]
  },
  {
   "attachments": {},
   "cell_type": "markdown",
   "metadata": {},
   "source": [
    "Basic parameters "
   ]
  },
  {
   "cell_type": "code",
   "execution_count": 46,
   "metadata": {},
   "outputs": [
    {
     "data": {
      "text/plain": [
       "_StoreAction(option_strings=['--finalT'], dest='finalT', nargs=None, const=None, default=0.5, type=<class 'float'>, choices=None, required=False, help=None, metavar=None)"
      ]
     },
     "execution_count": 46,
     "metadata": {},
     "output_type": "execute_result"
    }
   ],
   "source": [
    "parser = argparse.ArgumentParser('TAP-SGM')\n",
    "parser.add_argument(\n",
    "    '--data', choices=['swissroll', '8gaussians', 'pinwheel', 'circles', 'moons', '2spirals', 'checkerboard', 'rings'],\n",
    "    type=str, default='moons'\n",
    ")\n",
    "\n",
    "\n",
    "parser.add_argument('--depth', help='number of layers of score work', type=int, default=8)\n",
    "parser.add_argument('--hiddenunits',type = int, default = 32)\n",
    "parser.add_argument('--niters', type=int, default=100001)\n",
    "parser.add_argument('--batch_size', type=int, default=256)\n",
    "parser.add_argument('--lr', type=float, default=1e-3)\n",
    "parser.add_argument('--save', type=str, default='experiments/cnf')\n",
    "parser.add_argument('--tint',type = float, default = 0.02)\n",
    "parser.add_argument('--finalT',type = float, default = 0.5)\n"
   ]
  },
  {
   "cell_type": "code",
   "execution_count": 47,
   "metadata": {},
   "outputs": [],
   "source": [
    "args = parser.parse_args('')\n",
    "\n",
    "learning_rate = args.lr  # learning rate for training neural network\n",
    "batch_size = args.batch_size  # batch size during training of neural network\n",
    "epochs = args.niters   # Number of training epochs for the neural network\n",
    "tint = args.tint #  put more points in the initial training\n",
    "T = args.finalT    # Forward simulation time in the forward SDE\n",
    "dataset = args.data # Dataset choice, see toy_data for full options of toy datasets ('checkerboard','8gaussians','2spirals','swissroll','moons',etc.)\n",
    "saveloc = args.save # save folder"
   ]
  },
  {
   "attachments": {},
   "cell_type": "markdown",
   "metadata": {},
   "source": [
    "Load preconditioning map"
   ]
  },
  {
   "cell_type": "code",
   "execution_count": 48,
   "metadata": {},
   "outputs": [
    {
     "data": {
      "text/plain": [
       "<All keys matched successfully>"
      ]
     },
     "execution_count": 48,
     "metadata": {},
     "output_type": "execute_result"
    }
   ],
   "source": [
    "def construct_model():\n",
    "\n",
    "    if preconditionerargs.nf:\n",
    "        chain = []\n",
    "        for i in range(preconditionerargs.depth):\n",
    "            chain.append(layers.PlanarFlow(2))\n",
    "        return layers.SequentialFlow(chain)\n",
    "    else:\n",
    "        chain = []\n",
    "        for i in range(preconditionerargs.depth):\n",
    "            if preconditionerargs.glow: chain.append(layers.BruteForceLayer(2))\n",
    "            chain.append(layers.CouplingLayer(2, swap=i % 2 == 0))\n",
    "        return layers.SequentialFlow(chain)\n",
    "    \n",
    "checkpointlocation = 'experiments/cnf/'+dataset+'_depth3/checkpt.pth' \n",
    "checkpoint = torch.load(checkpointlocation)\n",
    "preconditionerargs = checkpoint['args']\n",
    "model = construct_model()\n",
    "model.load_state_dict(checkpoint['state_dict'])\n",
    "\n"
   ]
  },
  {
   "attachments": {},
   "cell_type": "markdown",
   "metadata": {},
   "source": [
    "We first initialize the neural net that models the score function. A key part of this is that we train adaptive Fourier features"
   ]
  },
  {
   "cell_type": "code",
   "execution_count": 49,
   "metadata": {},
   "outputs": [],
   "source": [
    "# Bespoke activation function\n",
    "class cosineact(nn.Module):\n",
    "    def __init__(self,weights = 1):\n",
    "        super().__init__()\n",
    "        self.weights = weights\n",
    "\n",
    "    def forward(self,input):\n",
    "        evaluation = torch.cos(self.weights * input)\n",
    "        return evaluation\n",
    "    \n"
   ]
  },
  {
   "cell_type": "code",
   "execution_count": 68,
   "metadata": {},
   "outputs": [
    {
     "name": "stdout",
     "output_type": "stream",
     "text": [
      "Sequential(\n",
      "  (0): Linear(in_features=3, out_features=32, bias=True)\n",
      "  (1): cosineact()\n",
      "  (2): Linear(in_features=32, out_features=32, bias=True)\n",
      "  (3): GELU(approximate='none')\n",
      "  (4): Linear(in_features=32, out_features=32, bias=True)\n",
      "  (5): GELU(approximate='none')\n",
      "  (6): Linear(in_features=32, out_features=32, bias=True)\n",
      "  (7): GELU(approximate='none')\n",
      "  (8): Linear(in_features=32, out_features=32, bias=True)\n",
      "  (9): GELU(approximate='none')\n",
      "  (10): Linear(in_features=32, out_features=32, bias=True)\n",
      "  (11): GELU(approximate='none')\n",
      "  (12): Linear(in_features=32, out_features=32, bias=True)\n",
      "  (13): GELU(approximate='none')\n",
      "  (14): Linear(in_features=32, out_features=32, bias=True)\n",
      "  (15): GELU(approximate='none')\n",
      "  (16): Linear(in_features=32, out_features=2, bias=True)\n",
      ")\n"
     ]
    }
   ],
   "source": [
    "## Score Model construction\n",
    "def construct_score_model(depth,hidden_units):\n",
    "    chain = []\n",
    "    chain.append(nn.Linear(3,int(hidden_units),bias =True))\n",
    "    chain.append(cosineact())\n",
    "\n",
    "    for ii in range(depth-1):\n",
    "        chain.append(nn.Linear(int(hidden_units),int(hidden_units),bias = True))\n",
    "        chain.append(nn.GELU())\n",
    "    chain.append(nn.Linear(int(hidden_units),2,bias = True))    \n",
    "\n",
    "    return nn.Sequential(*chain)\n",
    "\n",
    "\n",
    "\n",
    "      \n",
    "scorenet = construct_score_model(args.depth,args.hiddenunits)\n",
    "print(scorenet)\n",
    "optimizer = optim.Adam(scorenet.parameters(), lr=learning_rate)"
   ]
  },
  {
   "cell_type": "code",
   "execution_count": 67,
   "metadata": {},
   "outputs": [
    {
     "data": {
      "text/plain": [
       "tensor([[0.0200, 0.1834]], grad_fn=<AddmmBackward0>)"
      ]
     },
     "execution_count": 67,
     "metadata": {},
     "output_type": "execute_result"
    }
   ],
   "source": []
  },
  {
   "attachments": {},
   "cell_type": "markdown",
   "metadata": {},
   "source": [
    "Define loss functions. These loss functions assume that the forward process is a standard OU process dx = -x/2 dt + dW. The choice of \\lambda(t) in the SGM objective function is equal to 1 (the constant in front of the dW term). "
   ]
  },
  {
   "cell_type": "code",
   "execution_count": 69,
   "metadata": {},
   "outputs": [],
   "source": [
    "# Loss function -- we use the denoising diffusions objective function\n",
    "# Scorenet is the score model, samples are the training samples, Tmin/Tmax are the time interval that is being trained on, and eps is so that Tmin is not sampled. \n",
    "\n",
    "def time_dsm_score_estimator(scorenet,samples,Tmin,Tmax,eps):\n",
    "\n",
    "    t = torch.rand(samples.shape[0]) * (Tmax - Tmin - eps) + eps + Tmin # sample uniformly from time interval\n",
    "\n",
    "    # Add noise to the training samples\n",
    "    sigmas = torch.sqrt(1 - torch.exp(-t))\n",
    "    sigmas = sigmas.view(samples.shape[0],*([1]*len(samples.shape[1:])))\n",
    "    noise = torch.randn_like(samples) * sigmas\n",
    "    tenlarge = t.repeat(2,1).T\n",
    "    perturbed_samples = samples * torch.exp(-0.5 * tenlarge) + noise\n",
    "\n",
    "    # Evaluate score and marginal score on the perturbed samples\n",
    "    target = - 1/ (sigmas ** 2) * (noise)\n",
    "    score_eval_samples = torch.cat((t.reshape(-1,1),perturbed_samples),1)\n",
    "    scores = scorenet(score_eval_samples)\n",
    "\n",
    "    # Evaluate the loss function \n",
    "    target = target.view(target.shape[0],-1)\n",
    "    scores = scores.view(scores.shape[0],-1)\n",
    "    loss = 0.5 * ((scores-target) ** 2).sum(dim = -1) \n",
    "\n",
    "    return loss.mean(dim = 0)\n",
    "\n",
    "\n",
    "# Loss function\n",
    "# This is for if you have a specific mesh for the time interval you would like the network to train on. \n",
    "def deterministic_time_dsm_score_estimator(scorenet,samples,t):\n",
    "\n",
    "    loss = 0\n",
    "    for ii in range(len(t)-1):\n",
    "\n",
    "        # Add noise to the training samples\n",
    "        sigmas = torch.sqrt(1 - torch.exp(-t[ii]))\n",
    "        noise = torch.randn_like(samples) * sigmas\n",
    "        perturbed_samples = samples * torch.exp(-0.5 * t[ii]) + noise\n",
    "\n",
    "        # Evaluate score and marginal score on perturbed samples\n",
    "        target = - 1/ (sigmas ** 2) * (noise)\n",
    "        score_eval_samples = torch.cat((t[ii].repeat(perturbed_samples.shape[0],1),perturbed_samples),1)\n",
    "        scores = scorenet(score_eval_samples)\n",
    "\n",
    "        # Evaluate loss function at this particular t[ii]\n",
    "        target = target.view(target.shape[0],-1)\n",
    "        scores = scores.view(scores.shape[0],-1)\n",
    "        loss_vec = 0.5 * ((scores-target) ** 2).sum(dim = -1) \n",
    "        loss = loss + (t[ii+1]-t[ii])*loss_vec.mean(dim = 0)\n",
    "\n",
    "    return loss\n"
   ]
  },
  {
   "attachments": {},
   "cell_type": "markdown",
   "metadata": {},
   "source": [
    "Training the score network"
   ]
  },
  {
   "cell_type": "code",
   "execution_count": 70,
   "metadata": {},
   "outputs": [
    {
     "name": "stdout",
     "output_type": "stream",
     "text": [
      "tensor(237.6503, grad_fn=<AddBackward0>) 0\n",
      "tensor(179.2413, grad_fn=<AddBackward0>) 100\n",
      "tensor(232.0858, grad_fn=<AddBackward0>) 200\n",
      "tensor(211.4557, grad_fn=<AddBackward0>) 300\n",
      "tensor(182.6264, grad_fn=<AddBackward0>) 400\n",
      "tensor(184.9025, grad_fn=<AddBackward0>) 500\n",
      "tensor(531.3408, grad_fn=<AddBackward0>) 600\n",
      "tensor(231.6299, grad_fn=<AddBackward0>) 700\n",
      "tensor(214.2889, grad_fn=<AddBackward0>) 800\n",
      "tensor(228.3439, grad_fn=<AddBackward0>) 900\n"
     ]
    },
    {
     "ename": "KeyboardInterrupt",
     "evalue": "",
     "output_type": "error",
     "traceback": [
      "\u001b[0;31m---------------------------------------------------------------------------\u001b[0m",
      "\u001b[0;31mKeyboardInterrupt\u001b[0m                         Traceback (most recent call last)",
      "Cell \u001b[0;32mIn[70], line 13\u001b[0m\n\u001b[1;32m     10\u001b[0m samples2 \u001b[39m=\u001b[39m samples[half:\u001b[39m-\u001b[39m\u001b[39m1\u001b[39m,:]\n\u001b[1;32m     11\u001b[0m \u001b[39m# evaluate loss function and gradient\u001b[39;00m\n\u001b[1;32m     12\u001b[0m \u001b[39m# loss = time_dsm_score_estimator(scorenet,samples,0,T,eps = 0.0005)\u001b[39;00m\n\u001b[0;32m---> 13\u001b[0m loss \u001b[39m=\u001b[39m time_dsm_score_estimator(scorenet,samples1,\u001b[39m0\u001b[39;49m,tint,\u001b[39m0.0001\u001b[39;49m) \u001b[39m+\u001b[39m time_dsm_score_estimator(scorenet,samples2,tint,T,\u001b[39m0.0001\u001b[39m)\n\u001b[1;32m     15\u001b[0m optimizer\u001b[39m.\u001b[39mzero_grad()\n\u001b[1;32m     16\u001b[0m loss\u001b[39m.\u001b[39mbackward()\n",
      "Cell \u001b[0;32mIn[69], line 18\u001b[0m, in \u001b[0;36mtime_dsm_score_estimator\u001b[0;34m(scorenet, samples, Tmin, Tmax, eps)\u001b[0m\n\u001b[1;32m     16\u001b[0m target \u001b[39m=\u001b[39m \u001b[39m-\u001b[39m \u001b[39m1\u001b[39m\u001b[39m/\u001b[39m (sigmas \u001b[39m*\u001b[39m\u001b[39m*\u001b[39m \u001b[39m2\u001b[39m) \u001b[39m*\u001b[39m (noise)\n\u001b[1;32m     17\u001b[0m score_eval_samples \u001b[39m=\u001b[39m torch\u001b[39m.\u001b[39mcat((t\u001b[39m.\u001b[39mreshape(\u001b[39m-\u001b[39m\u001b[39m1\u001b[39m,\u001b[39m1\u001b[39m),perturbed_samples),\u001b[39m1\u001b[39m)\n\u001b[0;32m---> 18\u001b[0m scores \u001b[39m=\u001b[39m scorenet(score_eval_samples)\n\u001b[1;32m     20\u001b[0m \u001b[39m# Evaluate the loss function \u001b[39;00m\n\u001b[1;32m     21\u001b[0m target \u001b[39m=\u001b[39m target\u001b[39m.\u001b[39mview(target\u001b[39m.\u001b[39mshape[\u001b[39m0\u001b[39m],\u001b[39m-\u001b[39m\u001b[39m1\u001b[39m)\n",
      "File \u001b[0;32m~/opt/anaconda3/envs/particlesystems/lib/python3.9/site-packages/torch/nn/modules/module.py:1190\u001b[0m, in \u001b[0;36mModule._call_impl\u001b[0;34m(self, *input, **kwargs)\u001b[0m\n\u001b[1;32m   1186\u001b[0m \u001b[39m# If we don't have any hooks, we want to skip the rest of the logic in\u001b[39;00m\n\u001b[1;32m   1187\u001b[0m \u001b[39m# this function, and just call forward.\u001b[39;00m\n\u001b[1;32m   1188\u001b[0m \u001b[39mif\u001b[39;00m \u001b[39mnot\u001b[39;00m (\u001b[39mself\u001b[39m\u001b[39m.\u001b[39m_backward_hooks \u001b[39mor\u001b[39;00m \u001b[39mself\u001b[39m\u001b[39m.\u001b[39m_forward_hooks \u001b[39mor\u001b[39;00m \u001b[39mself\u001b[39m\u001b[39m.\u001b[39m_forward_pre_hooks \u001b[39mor\u001b[39;00m _global_backward_hooks\n\u001b[1;32m   1189\u001b[0m         \u001b[39mor\u001b[39;00m _global_forward_hooks \u001b[39mor\u001b[39;00m _global_forward_pre_hooks):\n\u001b[0;32m-> 1190\u001b[0m     \u001b[39mreturn\u001b[39;00m forward_call(\u001b[39m*\u001b[39;49m\u001b[39minput\u001b[39;49m, \u001b[39m*\u001b[39;49m\u001b[39m*\u001b[39;49mkwargs)\n\u001b[1;32m   1191\u001b[0m \u001b[39m# Do not call functions when jit is used\u001b[39;00m\n\u001b[1;32m   1192\u001b[0m full_backward_hooks, non_full_backward_hooks \u001b[39m=\u001b[39m [], []\n",
      "File \u001b[0;32m~/opt/anaconda3/envs/particlesystems/lib/python3.9/site-packages/torch/nn/modules/container.py:204\u001b[0m, in \u001b[0;36mSequential.forward\u001b[0;34m(self, input)\u001b[0m\n\u001b[1;32m    202\u001b[0m \u001b[39mdef\u001b[39;00m \u001b[39mforward\u001b[39m(\u001b[39mself\u001b[39m, \u001b[39minput\u001b[39m):\n\u001b[1;32m    203\u001b[0m     \u001b[39mfor\u001b[39;00m module \u001b[39min\u001b[39;00m \u001b[39mself\u001b[39m:\n\u001b[0;32m--> 204\u001b[0m         \u001b[39minput\u001b[39m \u001b[39m=\u001b[39m module(\u001b[39minput\u001b[39;49m)\n\u001b[1;32m    205\u001b[0m     \u001b[39mreturn\u001b[39;00m \u001b[39minput\u001b[39m\n",
      "File \u001b[0;32m~/opt/anaconda3/envs/particlesystems/lib/python3.9/site-packages/torch/nn/modules/module.py:1190\u001b[0m, in \u001b[0;36mModule._call_impl\u001b[0;34m(self, *input, **kwargs)\u001b[0m\n\u001b[1;32m   1186\u001b[0m \u001b[39m# If we don't have any hooks, we want to skip the rest of the logic in\u001b[39;00m\n\u001b[1;32m   1187\u001b[0m \u001b[39m# this function, and just call forward.\u001b[39;00m\n\u001b[1;32m   1188\u001b[0m \u001b[39mif\u001b[39;00m \u001b[39mnot\u001b[39;00m (\u001b[39mself\u001b[39m\u001b[39m.\u001b[39m_backward_hooks \u001b[39mor\u001b[39;00m \u001b[39mself\u001b[39m\u001b[39m.\u001b[39m_forward_hooks \u001b[39mor\u001b[39;00m \u001b[39mself\u001b[39m\u001b[39m.\u001b[39m_forward_pre_hooks \u001b[39mor\u001b[39;00m _global_backward_hooks\n\u001b[1;32m   1189\u001b[0m         \u001b[39mor\u001b[39;00m _global_forward_hooks \u001b[39mor\u001b[39;00m _global_forward_pre_hooks):\n\u001b[0;32m-> 1190\u001b[0m     \u001b[39mreturn\u001b[39;00m forward_call(\u001b[39m*\u001b[39;49m\u001b[39minput\u001b[39;49m, \u001b[39m*\u001b[39;49m\u001b[39m*\u001b[39;49mkwargs)\n\u001b[1;32m   1191\u001b[0m \u001b[39m# Do not call functions when jit is used\u001b[39;00m\n\u001b[1;32m   1192\u001b[0m full_backward_hooks, non_full_backward_hooks \u001b[39m=\u001b[39m [], []\n",
      "Cell \u001b[0;32mIn[49], line 8\u001b[0m, in \u001b[0;36mcosineact.forward\u001b[0;34m(self, input)\u001b[0m\n\u001b[1;32m      7\u001b[0m \u001b[39mdef\u001b[39;00m \u001b[39mforward\u001b[39m(\u001b[39mself\u001b[39m,\u001b[39minput\u001b[39m):\n\u001b[0;32m----> 8\u001b[0m     evaluation \u001b[39m=\u001b[39m torch\u001b[39m.\u001b[39;49mcos(\u001b[39mself\u001b[39;49m\u001b[39m.\u001b[39;49mweights \u001b[39m*\u001b[39;49m \u001b[39minput\u001b[39;49m)\n\u001b[1;32m      9\u001b[0m     \u001b[39mreturn\u001b[39;00m evaluation\n",
      "\u001b[0;31mKeyboardInterrupt\u001b[0m: "
     ]
    }
   ],
   "source": [
    "# Training the score network\n",
    "\n",
    "for step in range(epochs):\n",
    "    # sample toy_data\n",
    "    p_samples = toy_data.inf_train_gen(dataset, batch_size = batch_size)\n",
    "    samples = torch.tensor(p_samples).to(dtype = torch.float32)\n",
    "\n",
    "    half = int(batch_size/2)\n",
    "    samples1 = samples[0:half,:]\n",
    "    samples2 = samples[half:-1,:]\n",
    "    # evaluate loss function and gradient\n",
    "    # loss = time_dsm_score_estimator(scorenet,samples,0,T,eps = 0.0005)\n",
    "    loss = time_dsm_score_estimator(scorenet,samples1,0,tint,0.0001) + time_dsm_score_estimator(scorenet,samples2,tint,T,0.0001)\n",
    "\n",
    "    optimizer.zero_grad()\n",
    "    loss.backward()\n",
    "\n",
    "    # Update score network\n",
    "    optimizer.step()\n",
    "\n",
    "    if not step%100:\n",
    "        print(loss,step)\n",
    "\n",
    "\n"
   ]
  },
  {
   "attachments": {},
   "cell_type": "markdown",
   "metadata": {},
   "source": [
    "SDE simulation functions"
   ]
  },
  {
   "cell_type": "code",
   "execution_count": null,
   "metadata": {},
   "outputs": [],
   "source": [
    "# This is the solving the OU process exactly given deterministic initial conditions\n",
    "def ou_dynamics(init, T):\n",
    "    init = init * torch.exp(- 0.5 * T) + torch.sqrt(1-torch.exp(-T)) * torch.randn_like(init)\n",
    "    return init\n",
    "\n",
    "def reverse_sde(score, init,T,lr=0.0005):\n",
    "    step = int(T/lr) \n",
    "    for i in range(step,-1,-1):\n",
    "        current_lr = lr\n",
    "        evalpoint = torch.cat(((torch.tensor(lr*i)).repeat(init.shape[0],1),init),1)\n",
    "        init = init + current_lr  * (init/2 + score(evalpoint).detach() )\n",
    "        init = init + torch.randn_like(init) * np.sqrt(current_lr)\n",
    "    return init\n",
    "\n",
    "\n",
    "# The following is the deterministic ODE flow that can also sample from the target distribution\n",
    "\n",
    "def reverse_ode_flow(score,init,T,lr = 0.0005):\n",
    "    step = int(T/lr)\n",
    "    for i in range(step,-1,-1):\n",
    "        current_lr = lr\n",
    "        evalpoint = torch.cat(((torch.tensor(lr*i)).repeat(init.shape[0],1),init),1)\n",
    "        init = init + current_lr  * (init/2 + 1/2 * score(evalpoint).detach() )\n",
    "    return init"
   ]
  },
  {
   "attachments": {},
   "cell_type": "markdown",
   "metadata": {},
   "source": [
    "Sample using the score network "
   ]
  },
  {
   "cell_type": "code",
   "execution_count": null,
   "metadata": {},
   "outputs": [],
   "source": [
    "# Denoising the normal distribution \n",
    "samples_lang = torch.randn(10000, 2) # * (right_bound - left_bound) + left_bound\n",
    "samples_lang = reverse_sde(scorenet, samples_lang,torch.tensor(T)).detach().numpy()\n",
    "\n",
    "# Denoising samples from the training data\n",
    "samples = torch.tensor(toy_data.inf_train_gen(dataset, batch_size = 10000))\n",
    "samples_lang_noisedtraining = samples * torch.exp(-0.5 * torch.tensor(T)) + torch.sqrt(1-torch.exp(-torch.tensor(T))) * torch.randn_like(samples)\n",
    "samples_lang_noisedtraining =reverse_sde(scorenet, samples_lang_noisedtraining.to(dtype=torch.float32),torch.tensor(T)).detach().numpy()\n",
    "\n",
    "# Deterministically evolving the normal distribution \n",
    "samples_deterministic = torch.randn(10000,2)\n",
    "samples_deterministic = reverse_ode_flow(scorenet,samples_deterministic,torch.tensor(T)).detach().numpy()"
   ]
  },
  {
   "attachments": {},
   "cell_type": "markdown",
   "metadata": {},
   "source": [
    "Postprocessing with the map"
   ]
  },
  {
   "cell_type": "code",
   "execution_count": null,
   "metadata": {},
   "outputs": [],
   "source": [
    "samples_lang_target = model(torch.tensor(samples_lang),None,reverse = True).detach().numpy()\n",
    "samples_lang_noisedtraining_target = model(torch.tensor(samples_lang_noisedtraining),None,reverse = True).detach().numpy()\n",
    "samples_deterministic_target = model(torch.tensor(samples_deterministic),None,reverse = True).detach().numpy()\n"
   ]
  },
  {
   "attachments": {},
   "cell_type": "markdown",
   "metadata": {},
   "source": [
    "Make and save plots"
   ]
  },
  {
   "cell_type": "code",
   "execution_count": 71,
   "metadata": {},
   "outputs": [
    {
     "ename": "TypeError",
     "evalue": "forward() got an unexpected keyword argument 'reverse'",
     "output_type": "error",
     "traceback": [
      "\u001b[0;31m---------------------------------------------------------------------------\u001b[0m",
      "\u001b[0;31mTypeError\u001b[0m                                 Traceback (most recent call last)",
      "Cell \u001b[0;32mIn[71], line 31\u001b[0m\n\u001b[1;32m     25\u001b[0m plt\u001b[39m.\u001b[39msavefig(savename)\n\u001b[1;32m     30\u001b[0m plt\u001b[39m.\u001b[39mclf()\n\u001b[0;32m---> 31\u001b[0m pushforward_samples_true \u001b[39m=\u001b[39m model(samples_true,\u001b[39mNone\u001b[39;49;00m,reverse \u001b[39m=\u001b[39;49m \u001b[39mFalse\u001b[39;49;00m)\u001b[39m.\u001b[39mdetach()\u001b[39m.\u001b[39mnumpy()\n\u001b[1;32m     32\u001b[0m plt\u001b[39m.\u001b[39mscatter(pushforward_samples_true[:,\u001b[39m0\u001b[39m],pushforward_samples_true[:,\u001b[39m1\u001b[39m],s \u001b[39m=\u001b[39m \u001b[39m0.1\u001b[39m)\n\u001b[1;32m     33\u001b[0m plt\u001b[39m.\u001b[39maxis(\u001b[39m'\u001b[39m\u001b[39msquare\u001b[39m\u001b[39m'\u001b[39m)\n",
      "File \u001b[0;32m~/opt/anaconda3/envs/particlesystems/lib/python3.9/site-packages/torch/nn/modules/module.py:1190\u001b[0m, in \u001b[0;36mModule._call_impl\u001b[0;34m(self, *input, **kwargs)\u001b[0m\n\u001b[1;32m   1186\u001b[0m \u001b[39m# If we don't have any hooks, we want to skip the rest of the logic in\u001b[39;00m\n\u001b[1;32m   1187\u001b[0m \u001b[39m# this function, and just call forward.\u001b[39;00m\n\u001b[1;32m   1188\u001b[0m \u001b[39mif\u001b[39;00m \u001b[39mnot\u001b[39;00m (\u001b[39mself\u001b[39m\u001b[39m.\u001b[39m_backward_hooks \u001b[39mor\u001b[39;00m \u001b[39mself\u001b[39m\u001b[39m.\u001b[39m_forward_hooks \u001b[39mor\u001b[39;00m \u001b[39mself\u001b[39m\u001b[39m.\u001b[39m_forward_pre_hooks \u001b[39mor\u001b[39;00m _global_backward_hooks\n\u001b[1;32m   1189\u001b[0m         \u001b[39mor\u001b[39;00m _global_forward_hooks \u001b[39mor\u001b[39;00m _global_forward_pre_hooks):\n\u001b[0;32m-> 1190\u001b[0m     \u001b[39mreturn\u001b[39;00m forward_call(\u001b[39m*\u001b[39;49m\u001b[39minput\u001b[39;49m, \u001b[39m*\u001b[39;49m\u001b[39m*\u001b[39;49mkwargs)\n\u001b[1;32m   1191\u001b[0m \u001b[39m# Do not call functions when jit is used\u001b[39;00m\n\u001b[1;32m   1192\u001b[0m full_backward_hooks, non_full_backward_hooks \u001b[39m=\u001b[39m [], []\n",
      "\u001b[0;31mTypeError\u001b[0m: forward() got an unexpected keyword argument 'reverse'"
     ]
    },
    {
     "data": {
      "text/plain": [
       "<Figure size 640x480 with 0 Axes>"
      ]
     },
     "metadata": {},
     "output_type": "display_data"
    }
   ],
   "source": [
    "savedir = saveloc + '/' + dataset + '_precdepth3_scoredepth' + str(args.depth)+'_tapsgm/'\n",
    "\n",
    "# Check whether the specified path exists or not\n",
    "isExist = os.path.exists(savedir)\n",
    "if not isExist:\n",
    "\n",
    "   # Create a new directory because it does not exist\n",
    "   os.makedirs(savedir)\n",
    "\n",
    "\n",
    "\n",
    "\n",
    "\n",
    "\n",
    "\n",
    "plt.clf()\n",
    "p_samples = toy_data.inf_train_gen(dataset, batch_size = 10000)\n",
    "samples_true = torch.tensor(p_samples).to(dtype = torch.float32)\n",
    "plt.scatter(samples_true[:,0],samples_true[:,1],s = 0.1)\n",
    "plt.axis('square')\n",
    "plt.title('True samples')\n",
    "\n",
    "\n",
    "savename = savedir + 'true_samples.png'\n",
    "plt.savefig(savename)\n",
    "\n",
    "\n",
    "\n",
    "\n",
    "plt.clf()\n",
    "pushforward_samples_true = model(samples_true,None,reverse = False).detach().numpy()\n",
    "plt.scatter(pushforward_samples_true[:,0],pushforward_samples_true[:,1],s = 0.1)\n",
    "plt.axis('square')\n",
    "plt.title('True pushforward samples')\n",
    "\n",
    "savename = savedir + 'true_pushforward.png'\n",
    "plt.savefig(savename)\n",
    "\n",
    "\n",
    "# plt.clf()\n",
    "# pushforward_samples_true = model(samples_true,None,reverse = False).detach().numpy()\n",
    "# pushforward_samples_atT = ou_dynamics(torch.tensor(pushforward_samples_true),torch.tensor(T)).detach().numpy()\n",
    "# plt.scatter(pushforward_samples_atT[:,0],pushforward_samples_atT[:,1],s = 0.1)\n",
    "# plt.axis('square')\n",
    "# plt.title('True pushforward samples at T')\n",
    "\n",
    "# savename = savedir + 'true_pushforward_atT.png'\n",
    "# plt.savefig(savename)\n",
    "\n",
    "plt.clf()\n",
    "\n",
    "fig,axs = plt.subplots(1,7)\n",
    "samples_nf = model(samples_true,None,reverse = False).detach().numpy()\n",
    "\n",
    "for jj in range(6):\n",
    "\n",
    "    samples_nf_out = ou_dynamics(samples_nf,torch.tensor(T/6*jj)).detach().numpy()\n",
    "\n",
    "    axs[jj].clf()\n",
    "    axs[jj].set_axis('square')\n",
    "    axs[jj].set_xlim([-6, 6])\n",
    "    axs[jj].set_ylim([-6, 6])\n",
    "    axs[jj].scatter(samples_nf_out[:,0],samples_nf_out[:,1],s = 0.1)\n",
    "\n",
    "# plt.title('True pushforward samples at T')\n",
    "savename = savedir + 'true_pushforward_atT.png'\n",
    "plt.savefig(savename)\n",
    "\n",
    "\n",
    "\n",
    "\n",
    "plt.clf()\n",
    "plt.scatter(samples_lang[:,0],samples_lang[:,1],s = 0.1)\n",
    "plt.axis('square')\n",
    "plt.title('Reverse SDE pushforward')\n",
    "savename = savedir + 'reversesde_pushforward.png'\n",
    "plt.savefig(savename)\n",
    "\n",
    "\n",
    "\n",
    "\n",
    "plt.clf()\n",
    "plt.scatter(samples_lang_target[:,0],samples_lang_target[:,1],s = 0.1)\n",
    "plt.axis('square')\n",
    "plt.title('Denoising normal distribution')\n",
    "savename = savedir + 'reversesde_target.png'\n",
    "plt.savefig(savename)\n",
    "\n",
    "\n",
    "\n",
    "plt.clf()\n",
    "plt.scatter(samples_lang_noisedtraining_target[:,0],samples_lang_noisedtraining_target[:,1],s = 0.1)\n",
    "plt.axis('square')\n",
    "plt.title('Denoising noised training samples')\n",
    "savename = savedir + 'reversesde_noisedtraining_target.png'\n",
    "plt.savefig(savename)\n",
    "\n",
    "\n",
    "\n",
    "plt.clf()\n",
    "plt.scatter(samples_deterministic_target[:,0],samples_deterministic_target[:,1],s = 0.1)\n",
    "plt.axis('square')\n",
    "plt.title('Denoising normal with ODE flow')\n",
    "savename = savedir + 'deterministic_ode_target.png'\n",
    "plt.savefig(savename)\n",
    "\n",
    "\n",
    "\n",
    "samples_nf = model(torch.randn(10000,2),None,reverse = True).detach().numpy()\n",
    "plt.clf()\n",
    "plt.scatter(samples_nf[:,0],samples_nf[:,1],s = 0.1)\n",
    "plt.axis('square')\n",
    "plt.title('Map only')\n",
    "savename = savedir + 'map_only.png'\n",
    "plt.savefig(savename)\n",
    "\n",
    "\n",
    "\n",
    "savename = savedir + 'scorenet'\n",
    "torch.save(scorenet,savename)\n"
   ]
  },
  {
   "cell_type": "code",
   "execution_count": null,
   "metadata": {},
   "outputs": [],
   "source": []
  }
 ],
 "metadata": {
  "kernelspec": {
   "display_name": "particlesystems",
   "language": "python",
   "name": "python3"
  },
  "language_info": {
   "codemirror_mode": {
    "name": "ipython",
    "version": 3
   },
   "file_extension": ".py",
   "mimetype": "text/x-python",
   "name": "python",
   "nbconvert_exporter": "python",
   "pygments_lexer": "ipython3",
   "version": "3.9.13"
  },
  "orig_nbformat": 4,
  "vscode": {
   "interpreter": {
    "hash": "dcff6d82c76e93f8bf1a2a5a5959262afe2e0fbcc55797eb73e33c922868f9ed"
   }
  }
 },
 "nbformat": 4,
 "nbformat_minor": 2
}
