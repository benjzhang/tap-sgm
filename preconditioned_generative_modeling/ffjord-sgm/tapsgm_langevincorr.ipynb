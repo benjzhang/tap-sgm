{
 "cells": [
  {
   "cell_type": "code",
   "execution_count": 4,
   "metadata": {},
   "outputs": [],
   "source": [
    "import numpy as np\n",
    "import matplotlib.pyplot as plt\n",
    "import os\n",
    "import torch\n",
    "import lib.toy_data as toy_data\n",
    "import lib.layers as layers\n",
    "\n",
    "from train_misc import build_model_tabular\n",
    "from train_misc import create_regularization_fns\n",
    "\n",
    "import argparse"
   ]
  },
  {
   "cell_type": "code",
   "execution_count": 5,
   "metadata": {},
   "outputs": [],
   "source": [
    "parser = argparse.ArgumentParser('FFJORD-TAP-SGM')\n",
    "parser.add_argument(\n",
    "    '--data', choices=['swissroll', '8gaussians', 'pinwheel', 'circles', 'moons', '2spirals', 'checkerboard', 'rings'],\n",
    "    type=str, default='moons'\n",
    ")\n",
    "\n",
    "\n",
    "parser.add_argument('--depth', help='number of hidden layers of score network', type=int, default=7)\n",
    "parser.add_argument('--dims', type = int,default = 64)\n",
    "parser.add_argument('--hiddenunits',type = int, default = 32)\n",
    "parser.add_argument('--niters', type=int, default=100001)\n",
    "parser.add_argument('--batch_size', type=int, default=256)\n",
    "parser.add_argument('--lr', type=float, default=1e-3)\n",
    "parser.add_argument('--save', type=str, default='experiments/ffjord')\n",
    "parser.add_argument('--tint',type = float, default = 0.05)\n",
    "parser.add_argument('--finalT',type = float, default = 0.5)\n",
    "parser.add_argument('--dt',type = float,default = 0.001)\n",
    "parser.add_argument('--rff',type = bool, default = False)\n",
    "parser.add_argument('--gpu', type=int, default=0)\n",
    "\n",
    "args = parser.parse_args('')"
   ]
  },
  {
   "cell_type": "code",
   "execution_count": 2,
   "metadata": {},
   "outputs": [],
   "source": [
    "## load scorenets\n",
    "saveloc = 'experiments/ffjord'\n",
    "savedir = saveloc + '/' + dataset +'_dims' + str(args.dims) + '_scoredepth' + str(args.depth)+ '_T' + str(args.finalT)  + '_tint' + str(args.tint)+'_FF/'\n"
   ]
  },
  {
   "cell_type": "code",
   "execution_count": null,
   "metadata": {},
   "outputs": [],
   "source": []
  }
 ],
 "metadata": {
  "kernelspec": {
   "display_name": "particlesystems",
   "language": "python",
   "name": "python3"
  },
  "language_info": {
   "codemirror_mode": {
    "name": "ipython",
    "version": 3
   },
   "file_extension": ".py",
   "mimetype": "text/x-python",
   "name": "python",
   "nbconvert_exporter": "python",
   "pygments_lexer": "ipython3",
   "version": "3.9.13"
  },
  "orig_nbformat": 4,
  "vscode": {
   "interpreter": {
    "hash": "dcff6d82c76e93f8bf1a2a5a5959262afe2e0fbcc55797eb73e33c922868f9ed"
   }
  }
 },
 "nbformat": 4,
 "nbformat_minor": 2
}
