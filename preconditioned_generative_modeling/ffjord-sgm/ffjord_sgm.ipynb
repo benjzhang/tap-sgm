{
 "cells": [
  {
   "attachments": {},
   "cell_type": "markdown",
   "metadata": {},
   "source": [
    "## Transport-accelerated preconditioners for score-based generative modeling with SDEs (TAP-SGM with FFJORD)"
   ]
  },
  {
   "cell_type": "code",
   "execution_count": 1,
   "metadata": {},
   "outputs": [],
   "source": [
    "import matplotlib.pyplot as plt\n",
    "import os\n",
    "import torch\n",
    "import torch.optim as optim\n",
    "import torch.nn as nn\n",
    "import lib.toy_data as toy_data\n",
    "import numpy as np\n",
    "\n",
    "import lib.layers as layers\n",
    "\n",
    "import argparse\n",
    "from train_misc import build_model_tabular\n",
    "from train_misc import create_regularization_fns\n"
   ]
  },
  {
   "attachments": {},
   "cell_type": "markdown",
   "metadata": {},
   "source": [
    "Basic parameters "
   ]
  },
  {
   "cell_type": "code",
   "execution_count": 2,
   "metadata": {},
   "outputs": [
    {
     "data": {
      "text/plain": [
       "_StoreAction(option_strings=['--gpu'], dest='gpu', nargs=None, const=None, default=0, type=<class 'int'>, choices=None, required=False, help=None, metavar=None)"
      ]
     },
     "execution_count": 2,
     "metadata": {},
     "output_type": "execute_result"
    }
   ],
   "source": [
    "parser = argparse.ArgumentParser('FFJORD-TAP-SGM')\n",
    "parser.add_argument(\n",
    "    '--data', choices=['swissroll', '8gaussians', 'pinwheel', 'circles', 'moons', '2spirals', 'checkerboard', 'rings'],\n",
    "    type=str, default='moons'\n",
    ")\n",
    "\n",
    "\n",
    "parser.add_argument('--depth', help='number of layers of score network', type=int, default=8)\n",
    "parser.add_argument('--dims', type = int,default = 64)\n",
    "parser.add_argument('--hiddenunits',type = int, default = 32)\n",
    "parser.add_argument('--niters', type=int, default=100001)\n",
    "parser.add_argument('--batch_size', type=int, default=256)\n",
    "parser.add_argument('--lr', type=float, default=1e-3)\n",
    "parser.add_argument('--save', type=str, default='experiments/ffjord')\n",
    "parser.add_argument('--tint',type = float, default = 0.05)\n",
    "parser.add_argument('--finalT',type = float, default = 0.5)\n",
    "parser.add_argument('--rff',type = bool, default = False)\n",
    "parser.add_argument('--gpu', type=int, default=0)\n",
    "\n",
    "\n",
    "\n"
   ]
  },
  {
   "cell_type": "code",
   "execution_count": 3,
   "metadata": {},
   "outputs": [],
   "source": [
    "args = parser.parse_args('')\n",
    "\n",
    "dims = 32\n",
    "\n",
    "args.depth = 2\n",
    "learning_rate = args.lr  # learning rate for training neural network\n",
    "batch_size = args.batch_size  # batch size during training of neural network\n",
    "epochs = args.niters   # Number of training epochs for the neural network\n",
    "tint = args.tint #  put more points in the initial training\n",
    "T = args.finalT    # Forward simulation time in the forward SDE\n",
    "dataset = args.data # Dataset choice, see toy_data for full options of toy datasets ('checkerboard','8gaussians','2spirals','swissroll','moons',etc.)\n",
    "saveloc = args.save # save folder\n",
    "\n",
    "\n",
    "\n"
   ]
  },
  {
   "attachments": {},
   "cell_type": "markdown",
   "metadata": {},
   "source": [
    "Load preconditioning map"
   ]
  },
  {
   "cell_type": "code",
   "execution_count": 4,
   "metadata": {},
   "outputs": [
    {
     "data": {
      "text/plain": [
       "<All keys matched successfully>"
      ]
     },
     "execution_count": 4,
     "metadata": {},
     "output_type": "execute_result"
    }
   ],
   "source": [
    "\n",
    "model_location = '../../ffjord-master/experiments/ffjord/'+dataset + str(dims)+'/checkpt.pth'\n",
    "checkpoint = torch.load(model_location)\n",
    "preconditionerargs = checkpoint['args']\n",
    "device = torch.device('cuda:' + str(args.gpu) if torch.cuda.is_available() else 'cpu')\n",
    "\n",
    "regularization_fns, regularization_coeffs = create_regularization_fns(preconditionerargs)\n",
    "model = build_model_tabular(preconditionerargs, 2, regularization_fns)\n",
    "model.load_state_dict(checkpoint['state_dict'])"
   ]
  },
  {
   "attachments": {},
   "cell_type": "markdown",
   "metadata": {},
   "source": [
    "We first initialize the neural net that models the score function. A key part of this is that we train adaptive Fourier features"
   ]
  },
  {
   "cell_type": "code",
   "execution_count": 5,
   "metadata": {},
   "outputs": [],
   "source": [
    "# Bespoke activation function\n",
    "class cosineact(nn.Module):\n",
    "    def __init__(self,weights = 1):\n",
    "        super().__init__()\n",
    "        self.weights = weights\n",
    "\n",
    "    def forward(self,input):\n",
    "        evaluation = torch.cos(self.weights * input)\n",
    "        return evaluation\n",
    "\n",
    "\n",
    "# Random Fourier features\n",
    "B = 2*torch.pi/ 3 * torch.randn(2,int(args.hiddenunits))\n",
    "c = 2 *torch.pi/3 * torch.rand(1,int(args.hiddenunits))\n",
    "\n"
   ]
  },
  {
   "cell_type": "code",
   "execution_count": 6,
   "metadata": {},
   "outputs": [
    {
     "name": "stdout",
     "output_type": "stream",
     "text": [
      "Sequential(\n",
      "  (0): Linear(in_features=3, out_features=32, bias=True)\n",
      "  (1): GELU(approximate='none')\n",
      "  (2): Linear(in_features=32, out_features=32, bias=True)\n",
      "  (3): GELU(approximate='none')\n",
      "  (4): Linear(in_features=32, out_features=2, bias=True)\n",
      ")\n"
     ]
    }
   ],
   "source": [
    "## Score Model construction\n",
    "\n",
    "\n",
    "def construct_score_model(depth,hidden_units):\n",
    "    chain = []\n",
    "    chain.append(nn.Linear(int(2)+1,int(hidden_units),bias =True))\n",
    "    chain.append(nn.GELU())\n",
    "\n",
    "    for ii in range(depth-1):\n",
    "        chain.append(nn.Linear(int(hidden_units),int(hidden_units),bias = True))\n",
    "        chain.append(nn.GELU())\n",
    "    chain.append(nn.Linear(int(hidden_units),2,bias = True))    \n",
    "\n",
    "    return nn.Sequential(*chain)\n",
    "\n",
    "\n",
    "\n",
    "      \n",
    "scorenet = construct_score_model(args.depth,args.hiddenunits)\n",
    "print(scorenet)\n",
    "optimizer = optim.Adam(scorenet.parameters(), lr=learning_rate)"
   ]
  },
  {
   "attachments": {},
   "cell_type": "markdown",
   "metadata": {},
   "source": [
    "Define loss functions. These loss functions assume that the forward process is a standard OU process dx = -x/2 dt + dW. The choice of \\lambda(t) in the SGM objective function is equal to 1 (the constant in front of the dW term). "
   ]
  },
  {
   "cell_type": "code",
   "execution_count": 7,
   "metadata": {},
   "outputs": [],
   "source": [
    "# Loss function -- we use the denoising diffusions objective function\n",
    "# Scorenet is the score model, samples are the training samples, Tmin/Tmax are the time interval that is being trained on, and eps is so that Tmin is not sampled. \n",
    "\n",
    "def time_dsm_score_estimator(scorenet,samples,Tmin,Tmax,eps):\n",
    "\n",
    "    t = torch.rand(samples.shape[0]) * (Tmax - Tmin - eps) + eps + Tmin # sample uniformly from time interval\n",
    "\n",
    "    # Add noise to the training samples\n",
    "    sigmas = torch.sqrt(1 - torch.exp(-t))\n",
    "    sigmas = sigmas.view(samples.shape[0],*([1]*len(samples.shape[1:])))\n",
    "    noise = torch.randn_like(samples) * sigmas\n",
    "    tenlarge = t.repeat(2,1).T\n",
    "    perturbed_samples = samples * torch.exp(-0.5 * tenlarge) + noise\n",
    "\n",
    "    # Evaluate score and marginal score on the perturbed samples\n",
    "    target = - 1/ (sigmas ** 2) * (noise)\n",
    "    score_eval_samples = torch.cat((t.reshape(-1,1),perturbed_samples),1)\n",
    "    scores = -perturbed_samples + scorenet(score_eval_samples)\n",
    "\n",
    "    # Evaluate the loss function \n",
    "    target = target.view(target.shape[0],-1)\n",
    "    scores = scores.view(scores.shape[0],-1)\n",
    "    loss = 0.5 * ((scores-target) ** 2).sum(dim = -1) \n",
    "\n",
    "    return loss.mean(dim = 0)\n",
    "\n",
    "\n",
    "def FF_time_dsm_score_estimator(scorenet,samples,Tmin,Tmax,eps,B,c):\n",
    "\n",
    "    t = torch.rand(samples.shape[0]) * (Tmax - Tmin - eps) + eps + Tmin\n",
    "\n",
    "\n",
    "    sigmas = torch.sqrt(1 - torch.exp(-t))\n",
    "    sigmas = sigmas.view(samples.shape[0],*([1]*len(samples.shape[1:])))\n",
    "    noise = torch.randn_like(samples) * sigmas\n",
    "    tenlarge = t.repeat(2,1).T\n",
    "    perturbed_samples = samples * torch.exp(-0.5 * tenlarge) + noise\n",
    "    target = - 1/ (sigmas ** 2) * (noise)\n",
    "\n",
    "    # checkbounds = (torch.abs(samples[:,0])<3).type(torch.uint8) * (torch.abs(samples[:,1])<3)\n",
    "\n",
    "    # FFperturbed_samples = torch.multiply( checkbounds.reshape(-1,1) ,(torch.matmul(perturbed_samples,B) + c))\n",
    "    FFperturbed_samples = torch.matmul(perturbed_samples,B) + c\n",
    "    # perturbed_samples = torch.cat( (torch.cos(FFperturbed_samples), torch.sin(FFperturbed_samples)),1 )\n",
    "\n",
    "    FFperturbed_samples = torch.cos(FFperturbed_samples)\n",
    "\n",
    "    score_eval_samples = torch.cat((t.reshape(-1,1),FFperturbed_samples),1)\n",
    "    scores = -perturbed_samples + scorenet(score_eval_samples)\n",
    "\n",
    "    target = target.view(target.shape[0],-1)\n",
    "    scores = scores.view(scores.shape[0],-1)\n",
    "    loss = 0.5 * ((scores-target) ** 2).sum(dim = -1) \n",
    "\n",
    "    return loss.mean(dim = 0)\n",
    "\n",
    "\n",
    "# Loss function\n",
    "# This is for if you have a specific mesh for the time interval you would like the network to train on. \n",
    "def deterministic_time_dsm_score_estimator(scorenet,samples,t):\n",
    "\n",
    "    loss = 0\n",
    "    for ii in range(len(t)-1):\n",
    "\n",
    "        # Add noise to the training samples\n",
    "        sigmas = torch.sqrt(1 - torch.exp(-t[ii]))\n",
    "        noise = torch.randn_like(samples) * sigmas\n",
    "        perturbed_samples = samples * torch.exp(-0.5 * t[ii]) + noise\n",
    "\n",
    "        # Evaluate score and marginal score on perturbed samples\n",
    "        target = - 1/ (sigmas ** 2) * (noise)\n",
    "        score_eval_samples = torch.cat((t[ii].repeat(perturbed_samples.shape[0],1),perturbed_samples),1)\n",
    "        scores = scorenet(score_eval_samples)\n",
    "\n",
    "        # Evaluate loss function at this particular t[ii]\n",
    "        target = target.view(target.shape[0],-1)\n",
    "        scores = scores.view(scores.shape[0],-1)\n",
    "        loss_vec = 0.5 * ((scores-target) ** 2).sum(dim = -1) \n",
    "        loss = loss + (t[ii+1]-t[ii])*loss_vec.mean(dim = 0)\n",
    "\n",
    "    return loss\n"
   ]
  },
  {
   "attachments": {},
   "cell_type": "markdown",
   "metadata": {},
   "source": [
    "Training the score network"
   ]
  },
  {
   "cell_type": "code",
   "execution_count": 8,
   "metadata": {},
   "outputs": [
    {
     "name": "stderr",
     "output_type": "stream",
     "text": [
      "/Users/bjzhang/gitrepos/tap-sgm/preconditioned_generative_modeling/ffjord-sgm/lib/layers/odefunc.py:288: UserWarning: To copy construct from a tensor, it is recommended to use sourceTensor.clone().detach() or sourceTensor.clone().detach().requires_grad_(True), rather than torch.tensor(sourceTensor).\n",
      "  t = torch.tensor(t).type_as(y)\n"
     ]
    }
   ],
   "source": [
    "## Generate training data\n",
    "p_samples = toy_data.inf_train_gen(dataset, batch_size =1000000)\n",
    "training_samples = torch.tensor(p_samples).to(dtype = torch.float32)\n",
    "training_samples = model(training_samples,None,reverse = False).detach()\n"
   ]
  },
  {
   "cell_type": "code",
   "execution_count": null,
   "metadata": {},
   "outputs": [],
   "source": [
    "# Training the score network\n",
    "\n",
    "for step in range(epochs):\n",
    "    # sample toy_data\n",
    "    # p_samples = toy_data.inf_train_gen(dataset, batch_size = batch_size)\n",
    "    # samples = torch.tensor(p_samples).to(dtype = torch.float32)\n",
    "    # samples = model(samples,None,reverse = False) \n",
    "\n",
    "    randind1 = torch.randint(0,10000,(128,))\n",
    "    randind2 = torch.randint(0,10000,(128,))\n",
    "    samples1 = training_samples[randind1,:]\n",
    "    samples2 = training_samples[randind2,:]\n",
    "    # evaluate loss function and gradient\n",
    "    # loss = time_dsm_score_estimator(scorenet,samples,0,T,eps = 0.0005)\n",
    "    # loss = time_dsm_score_estimator(scorenet,samples1,0,tint,0.001) + time_dsm_score_estimator(scorenet,samples2,tint,T,0.001)\n",
    "    loss = FF_time_dsm_score_estimator(scorenet,samples1,0,tint,0.001,B,c) + FF_time_dsm_score_estimator(scorenet,samples2,tint,T,0.001,B,c)\n",
    "\n",
    "    optimizer.zero_grad()\n",
    "    loss.backward()\n",
    "\n",
    "    # Update score network\n",
    "    optimizer.step()\n",
    "\n",
    "    if not step%100:\n",
    "        print(loss,step)\n",
    "\n",
    "\n"
   ]
  },
  {
   "attachments": {},
   "cell_type": "markdown",
   "metadata": {},
   "source": [
    "SDE simulation functions"
   ]
  },
  {
   "cell_type": "code",
   "execution_count": null,
   "metadata": {},
   "outputs": [],
   "source": [
    "# This is the solving the OU process exactly given deterministic initial conditions\n",
    "def ou_dynamics(init, T):\n",
    "    init = init * torch.exp(- 0.5 * T) + torch.sqrt(1-torch.exp(-T)) * torch.randn_like(init)\n",
    "    return init\n",
    "\n",
    "def reverse_sde(score, init,T,lr=0.001):\n",
    "    step = int(T/lr) \n",
    "    for i in range(step,-1,-1):\n",
    "        current_lr = lr\n",
    "        evalpoint = torch.cat(((torch.tensor(lr*i)).repeat(init.shape[0],1),init),1)\n",
    "        init = init + current_lr  * (init/2 + score(evalpoint).detach() )\n",
    "        init = init + torch.randn_like(init) * np.sqrt(current_lr)\n",
    "    return init\n",
    "\n",
    "\n",
    "# The following is the deterministic ODE flow that can also sample from the target distribution\n",
    "\n",
    "def reverse_ode_flow(score,init,T,lr = 0.001):\n",
    "    step = int(T/lr)\n",
    "    for i in range(step,-1,-1):\n",
    "        current_lr = lr\n",
    "        evalpoint = torch.cat(((torch.tensor(lr*i)).repeat(init.shape[0],1),init),1)\n",
    "        init = init + current_lr  * (init/2 + 1/2 * score(evalpoint).detach() )\n",
    "    return init\n",
    "\n",
    "\n",
    "\n",
    "def FF_reverse_sde(score, init,T,B,c,lr=0.001):\n",
    "    step = int(T/lr) \n",
    "    for i in range(step,-1,-1):\n",
    "        current_lr = lr\n",
    "\n",
    "\n",
    "        FFinit = torch.matmul(init,B) + c\n",
    "        # checkbounds = (torch.abs(init[:,0])<3).type(torch.uint8) * (torch.abs(init[:,1])<3)\n",
    "        # FFinit = torch.multiply( checkbounds.reshape(-1,1) , torch.cos(FFinit) )\n",
    "        FFinit = torch.cos(FFinit) \n",
    "        # FFinit = torch.cat( (torch.cos(FFinit), torch.sin(FFinit)),1 )\n",
    "        evalpoint = torch.cat(((torch.tensor(lr*i)).repeat(FFinit.shape[0],1),FFinit),1)\n",
    "\n",
    "\n",
    "        init = init + current_lr  * (init/2 +( -init + score(evalpoint).detach() ))\n",
    "        init = init + torch.randn_like(init) * np.sqrt(current_lr)\n",
    "    return init\n",
    "\n",
    "\n",
    "def FF_reverse_ode_flow(score,init,T,B,c,lr = 0.001):\n",
    "    step = int(T/lr)\n",
    "    for i in range(step,-1,-1):\n",
    "        current_lr = lr\n",
    "\n",
    "        FFinit = torch.matmul(init,B) + c\n",
    "        # checkbounds = (torch.abs(init[:,0])<3).type(torch.uint8) * (torch.abs(init[:,1])<3)\n",
    "        FFinit = torch.cos(FFinit)\n",
    "        # FFinit = torch.multiply( checkbounds.reshape(-1,1) , torch.cos(FFinit) )\n",
    "        evalpoint = torch.cat(((torch.tensor(lr*i)).repeat(FFinit.shape[0],1),FFinit),1)\n",
    "        init = init + current_lr  * (init/2 + 1/2 *( - init +  score(evalpoint).detach()) )\n",
    "    return init"
   ]
  },
  {
   "attachments": {},
   "cell_type": "markdown",
   "metadata": {},
   "source": [
    "Sample using the score network "
   ]
  },
  {
   "cell_type": "code",
   "execution_count": null,
   "metadata": {},
   "outputs": [],
   "source": [
    "# Denoising the normal distribution \n",
    "samples_lang = torch.randn(10000, 2) # * (right_bound - left_bound) + left_bound\n",
    "# samples_lang = reverse_sde(scorenet, samples_lang,torch.tensor(T)).detach().numpy()\n",
    "samples_lang = FF_reverse_sde(scorenet, samples_lang,torch.tensor(T),B,c).detach().numpy()\n",
    "\n",
    "# Denoising samples from the training data\n",
    "samples = torch.tensor(toy_data.inf_train_gen(dataset, batch_size = 10000))\n",
    "samples = model(samples.to(dtype = torch.float32),None,reverse = False)\n",
    "samples_lang_noisedtraining = samples * torch.exp(-0.5 * torch.tensor(T)) + torch.sqrt(1-torch.exp(-torch.tensor(T))) * torch.randn_like(samples)\n",
    "# samples_lang_noisedtraining =reverse_sde(scorenet, samples_lang_noisedtraining.to(dtype=torch.float32),torch.tensor(T)).detach().numpy()\n",
    "samples_lang_noisedtraining =FF_reverse_sde(scorenet, samples_lang_noisedtraining.to(dtype=torch.float32),torch.tensor(T),B,c).detach().numpy()\n",
    "\n",
    "# Deterministically evolving the normal distribution \n",
    "samples_deterministic = torch.randn(10000,2)\n",
    "# samples_deterministic = reverse_ode_flow(scorenet,samples_deterministic,torch.tensor(T)).detach().numpy()\n",
    "samples_deterministic = FF_reverse_ode_flow(scorenet,samples_deterministic,torch.tensor(T),B,c).detach().numpy()"
   ]
  },
  {
   "attachments": {},
   "cell_type": "markdown",
   "metadata": {},
   "source": [
    "Postprocessing with the map"
   ]
  },
  {
   "cell_type": "code",
   "execution_count": null,
   "metadata": {},
   "outputs": [],
   "source": [
    "samples_lang_target = model(torch.tensor(samples_lang),None,reverse = True).detach().numpy()\n",
    "samples_lang_noisedtraining_target = model(torch.tensor(samples_lang_noisedtraining),None,reverse = True).detach().numpy()\n",
    "samples_deterministic_target = model(torch.tensor(samples_deterministic),None,reverse = True).detach().numpy()\n"
   ]
  },
  {
   "attachments": {},
   "cell_type": "markdown",
   "metadata": {},
   "source": [
    "Make and save plots"
   ]
  },
  {
   "cell_type": "code",
   "execution_count": null,
   "metadata": {},
   "outputs": [],
   "source": [
    "savedir = saveloc + '/' + dataset + 'scoredepth' + str(args.depth)+'_tapsgm_FFtest/'\n",
    "\n",
    "# Check whether the specified path exists or not\n",
    "isExist = os.path.exists(savedir)\n",
    "if not isExist:\n",
    "\n",
    "   # Create a new directory because it does not exist\n",
    "   os.makedirs(savedir)\n",
    "\n",
    "\n",
    "\n",
    "\n",
    "\n",
    "\n",
    "\n",
    "plt.clf()\n",
    "p_samples = toy_data.inf_train_gen(dataset, batch_size = 10000)\n",
    "samples_true = torch.tensor(p_samples).to(dtype = torch.float32)\n",
    "plt.scatter(samples_true[:,0],samples_true[:,1],s = 0.1)\n",
    "plt.axis('square')\n",
    "plt.title('True samples')\n",
    "\n",
    "\n",
    "savename = savedir + 'true_samples.png'\n",
    "plt.savefig(savename)\n",
    "\n",
    "\n",
    "\n",
    "\n",
    "plt.clf()\n",
    "pushforward_samples_true = model(samples_true,None,reverse = False).detach().numpy()\n",
    "plt.scatter(pushforward_samples_true[:,0],pushforward_samples_true[:,1],s = 0.1)\n",
    "plt.axis('square')\n",
    "plt.title('True pushforward samples')\n",
    "\n",
    "savename = savedir + 'true_pushforward.png'\n",
    "plt.savefig(savename)\n",
    "\n",
    "\n",
    "# plt.clf()\n",
    "# pushforward_samples_true = model(samples_true,None,reverse = False).detach().numpy()\n",
    "# pushforward_samples_atT = ou_dynamics(torch.tensor(pushforward_samples_true),torch.tensor(T)).detach().numpy()\n",
    "# plt.scatter(pushforward_samples_atT[:,0],pushforward_samples_atT[:,1],s = 0.1)\n",
    "# plt.axis('square')\n",
    "# plt.title('True pushforward samples at T')\n",
    "\n",
    "# savename = savedir + 'true_pushforward_atT.png'\n",
    "# plt.savefig(savename)\n",
    "\n",
    "plt.clf()\n",
    "\n",
    "fig,axs = plt.subplots(1,6)\n",
    "samples_nf = model(samples_true,None,reverse = False)\n",
    "\n",
    "for jj in range(6):\n",
    "\n",
    "    samples_nf_out = ou_dynamics(samples_nf,torch.tensor(T/6*jj)).detach().numpy()\n",
    "    axs[jj].set_box_aspect(1)\n",
    "    axs[jj].set_xlim([-6, 6])\n",
    "    axs[jj].set_ylim([-6, 6])\n",
    "    axs[jj].scatter(samples_nf_out[:,0],samples_nf_out[:,1],s = 0.1)\n",
    "\n",
    "# plt.title('True pushforward samples at T')\n",
    "savename = savedir + 'true_pushforward_atT.png'\n",
    "plt.savefig(savename)\n",
    "\n",
    "\n",
    "\n",
    "\n",
    "plt.clf()\n",
    "plt.scatter(samples_lang[:,0],samples_lang[:,1],s = 0.1)\n",
    "plt.axis('square')\n",
    "plt.title('Reverse SDE pushforward')\n",
    "savename = savedir + 'reversesde_pushforward.png'\n",
    "plt.savefig(savename)\n",
    "\n",
    "\n",
    "\n",
    "\n",
    "plt.clf()\n",
    "plt.scatter(samples_lang_target[:,0],samples_lang_target[:,1],s = 0.1)\n",
    "plt.axis('square')\n",
    "plt.title('Denoising normal distribution')\n",
    "savename = savedir + 'reversesde_target.png'\n",
    "plt.savefig(savename)\n",
    "\n",
    "\n",
    "\n",
    "plt.clf()\n",
    "plt.scatter(samples_lang_noisedtraining_target[:,0],samples_lang_noisedtraining_target[:,1],s = 0.1)\n",
    "plt.axis('square')\n",
    "plt.title('Denoising noised training samples')\n",
    "savename = savedir + 'reversesde_noisedtraining_target.png'\n",
    "plt.savefig(savename)\n",
    "\n",
    "\n",
    "\n",
    "plt.clf()\n",
    "plt.scatter(samples_deterministic_target[:,0],samples_deterministic_target[:,1],s = 0.1)\n",
    "plt.axis('square')\n",
    "plt.title('Denoising normal with ODE flow')\n",
    "savename = savedir + 'deterministic_ode_target.png'\n",
    "plt.savefig(savename)\n",
    "\n",
    "\n",
    "\n",
    "samples_nf = model(torch.randn(10000,2),None,reverse = True).detach().numpy()\n",
    "plt.clf()\n",
    "plt.scatter(samples_nf[:,0],samples_nf[:,1],s = 0.1)\n",
    "plt.axis('square')\n",
    "plt.title('Map only')\n",
    "savename = savedir + 'map_only.png'\n",
    "plt.savefig(savename)\n"
   ]
  },
  {
   "cell_type": "code",
   "execution_count": null,
   "metadata": {},
   "outputs": [],
   "source": []
  }
 ],
 "metadata": {
  "kernelspec": {
   "display_name": "particlesystems",
   "language": "python",
   "name": "python3"
  },
  "language_info": {
   "codemirror_mode": {
    "name": "ipython",
    "version": 3
   },
   "file_extension": ".py",
   "mimetype": "text/x-python",
   "name": "python",
   "nbconvert_exporter": "python",
   "pygments_lexer": "ipython3",
   "version": "3.9.13"
  },
  "orig_nbformat": 4,
  "vscode": {
   "interpreter": {
    "hash": "dcff6d82c76e93f8bf1a2a5a5959262afe2e0fbcc55797eb73e33c922868f9ed"
   }
  }
 },
 "nbformat": 4,
 "nbformat_minor": 2
}
